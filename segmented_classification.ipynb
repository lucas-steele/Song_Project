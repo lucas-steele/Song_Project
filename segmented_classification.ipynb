{
 "cells": [
  {
   "cell_type": "code",
   "execution_count": 57,
   "metadata": {},
   "outputs": [],
   "source": [
    "import os \n",
    "import cv2   \n",
    "from sklearn.utils import shuffle\n",
    "from sklearn.preprocessing import StandardScaler\n",
    "import numpy as np  \n",
    "import matplotlib.pyplot as plt\n",
    "import random\n",
    "import tensorflow as tf\n",
    "import tensorflow.keras.layers as Layers\n",
    "import tensorflow.keras.activations as Actications\n",
    "import tensorflow.keras.models as Models\n",
    "import tensorflow.keras.optimizers as Optimizer\n",
    "import tensorflow.keras.metrics as Metrics\n",
    "import tensorflow.keras.utils as Utils\n",
    "from IPython.display import SVG\n",
    "from scipy.stats import mode\n"
   ]
  },
  {
   "cell_type": "code",
   "execution_count": 58,
   "metadata": {},
   "outputs": [],
   "source": [
    "#Load the data\n",
    "def get_images(directory):\n",
    "    Images = []\n",
    "    Labels = []  # 0 for Building , 1 for forest, 2 for glacier, 3 for mountain, 4 for Sea , 5 for Street\n",
    "    class_labels = {'buildings': 0,\n",
    "                    'forest' : 1,\n",
    "                    'glacier' : 2,\n",
    "                    'mountain' : 3,\n",
    "                    'sea' : 4,\n",
    "                    'street' : 5\n",
    "                    }\n",
    "    for label in os.listdir(directory):\n",
    "        \n",
    "        for image_file in os.listdir(directory+label): #Extracting the file name of the image from Class Label folder\n",
    "            image = cv2.imread(directory+label+r'/'+image_file) #Reading the image (OpenCV)\n",
    "            image = cv2.resize(image,(150,150)) #Resize the image, Some images are different sizes. (Resizing is very Important)\n",
    "            Images.append(image)\n",
    "            Labels.append(class_labels[label])\n",
    "    \n",
    "    return shuffle(Images,Labels) #Shuffle the dataset you just prepared.\n",
    "\n"
   ]
  },
  {
   "cell_type": "code",
   "execution_count": 59,
   "metadata": {},
   "outputs": [],
   "source": [
    "Images, Labels = get_images('./seg_train/') #Extract the training images from the folders.\n",
    "\n",
    "X_train = np.array(Images, dtype = 'float32') #converting the list of images to numpy array.\n",
    "y_train = np.array(Labels, dtype = 'int32')\n",
    "\n",
    "\n",
    "seg_x = []\n",
    "seg_y = []\n",
    "\n",
    "for image in X_train:\n",
    "    seg_x.append(image[:50,:50,:])\n",
    "    seg_x.append(image[:50,50:100,:])\n",
    "    seg_x.append(image[:50,100:150,:])\n",
    "    seg_x.append(image[50:100,:50,:])\n",
    "    seg_x.append(image[50:100,50:100,:])\n",
    "    seg_x.append(image[50:100,100:150,:])\n",
    "    seg_x.append(image[100:,:50,:])\n",
    "    seg_x.append(image[100:,50:100,:])\n",
    "    seg_x.append(image[100:,100:150,:])\n",
    "\n",
    "for label in y_train:\n",
    "    seg_y.append(label)\n",
    "    seg_y.append(label)\n",
    "    seg_y.append(label)\n",
    "    seg_y.append(label)\n",
    "    seg_y.append(label)\n",
    "    seg_y.append(label)\n",
    "    seg_y.append(label)\n",
    "    seg_y.append(label)\n",
    "    seg_y.append(label)\n",
    "  \n",
    "seg_x = np.array(seg_x)\n",
    "seg_y = np.array(seg_y)\n",
    "seg_x = seg_x/(seg_x.max()) #Scale data"
   ]
  },
  {
   "cell_type": "code",
   "execution_count": 60,
   "metadata": {},
   "outputs": [],
   "source": [
    "#Pull 1st 9000 segments (1k full images)\n",
    "sx_train = seg_x[:9000]\n",
    "sy_train = seg_y[:9000]"
   ]
  },
  {
   "cell_type": "code",
   "execution_count": 61,
   "metadata": {},
   "outputs": [],
   "source": [
    "model = tf.keras.Sequential([\n",
    "    tf.keras.layers.Conv2D(32, (3, 3), activation = 'relu', input_shape = (50, 50, 3)), # the nn will learn the good filter to use\n",
    "    tf.keras.layers.MaxPooling2D(2,2),\n",
    "    tf.keras.layers.Conv2D(32, (3, 3), activation = 'relu'),\n",
    "    tf.keras.layers.MaxPooling2D(2,2),\n",
    "    tf.keras.layers.Flatten(),\n",
    "    tf.keras.layers.Dense(128, activation=tf.nn.relu),\n",
    "    tf.keras.layers.Dense(6, activation=tf.nn.softmax)\n",
    "])\n"
   ]
  },
  {
   "cell_type": "code",
   "execution_count": 62,
   "metadata": {},
   "outputs": [],
   "source": [
    "model.compile(optimizer = 'adam', loss = 'sparse_categorical_crossentropy', metrics=['accuracy'])"
   ]
  },
  {
   "cell_type": "code",
   "execution_count": 63,
   "metadata": {},
   "outputs": [
    {
     "name": "stdout",
     "output_type": "stream",
     "text": [
      "Train on 7200 samples, validate on 1800 samples\n",
      "Epoch 1/5\n",
      "7200/7200 [==============================] - 206s 29ms/step - loss: 1.5282 - acc: 0.3568 - val_loss: 1.4574 - val_acc: 0.4183\n",
      "Epoch 2/5\n",
      "7200/7200 [==============================] - 217s 30ms/step - loss: 1.3470 - acc: 0.4537 - val_loss: 1.4091 - val_acc: 0.4289\n",
      "Epoch 3/5\n",
      "7200/7200 [==============================] - 223s 31ms/step - loss: 1.2528 - acc: 0.4918 - val_loss: 1.4567 - val_acc: 0.4233\n",
      "Epoch 4/5\n",
      "7200/7200 [==============================] - 222s 31ms/step - loss: 1.1962 - acc: 0.5276 - val_loss: 1.3331 - val_acc: 0.4772\n",
      "Epoch 5/5\n",
      "7200/7200 [==============================] - 224s 31ms/step - loss: 1.1197 - acc: 0.5568 - val_loss: 1.3310 - val_acc: 0.4706\n"
     ]
    }
   ],
   "source": [
    "history = model.fit(sx_train, sy_train, batch_size=128, epochs=5, validation_split = 0.2)"
   ]
  },
  {
   "cell_type": "code",
   "execution_count": 64,
   "metadata": {},
   "outputs": [
    {
     "data": {
      "text/plain": [
       "array([2, 2, 3, 3, 3, 4, 3, 1, 1], dtype=int64)"
      ]
     },
     "execution_count": 64,
     "metadata": {},
     "output_type": "execute_result"
    }
   ],
   "source": [
    "predictions = model.predict(seg_x[9009:9018])\n",
    "pred_labels = np.argmax(predictions, axis = 1)\n",
    "pred_labels"
   ]
  },
  {
   "cell_type": "code",
   "execution_count": 65,
   "metadata": {},
   "outputs": [],
   "source": [
    "pred = mode(pred_labels)\n",
    "actual = mode(seg_y[9009:9018])"
   ]
  },
  {
   "cell_type": "code",
   "execution_count": 66,
   "metadata": {},
   "outputs": [],
   "source": [
    "##Draw back of the mode is that it settles ties with the lower number\n",
    "preds=[]\n",
    "actuals=[]\n",
    "for i in range(0,1000):\n",
    "    lower = 9000+i*9\n",
    "    upper = lower+9\n",
    "    prediction = model.predict(seg_x[lower:upper])\n",
    "    pred_label = np.argmax(prediction, axis = 1)\n",
    "    preds.append(mode(pred_label,axis=None)[0][0])\n",
    "    actuals.append(mode(seg_y[lower:upper],axis=None)[0][0])"
   ]
  },
  {
   "cell_type": "code",
   "execution_count": 67,
   "metadata": {},
   "outputs": [
    {
     "name": "stdout",
     "output_type": "stream",
     "text": [
      "[0, 3, 3, 4, 2, 4, 3, 0, 2, 4, 3, 4, 3, 2, 0, 2, 0, 4, 4, 3, 4, 4, 4, 0, 3, 1, 0, 1, 0, 3, 1, 0, 2, 1, 2, 0, 4, 1, 0, 1, 3, 0, 2, 0, 3, 3, 1, 0, 5, 1, 4, 1, 2, 2, 0, 1, 1, 2, 1, 0, 5, 1, 2, 3, 0, 3, 4, 0, 1, 3, 0, 4, 0, 4, 3, 4, 0, 0, 0, 4, 3, 0, 0, 3, 4, 4, 3, 1, 2, 0, 4, 0, 0, 1, 4, 3, 4, 4, 4, 1, 2, 2, 2, 3, 4, 1, 0, 0, 3, 1, 3, 2, 3, 3, 4, 5, 3, 5, 2, 0, 4, 4, 4, 2, 1, 1, 1, 4, 1, 2, 2, 0, 1, 4, 4, 3, 4, 4, 1, 1, 4, 0, 1, 0, 4, 1, 4, 3, 0, 3, 3, 2, 0, 4, 3, 4, 0, 1, 3, 4, 0, 1, 4, 0, 0, 4, 0, 0, 2, 0, 0, 1, 4, 1, 0, 4, 3, 3, 3, 4, 0, 0, 2, 0, 3, 3, 2, 3, 2, 0, 0, 4, 3, 3, 1, 3, 1, 4, 4, 3, 1, 1, 4, 0, 1, 3, 4, 0, 0, 1, 0, 2, 3, 4, 0, 3, 4, 3, 0, 4, 4, 1, 4, 1, 3, 2, 2, 3, 1, 3, 1, 4, 4, 0, 0, 4, 2, 4, 3, 4, 1, 0, 1, 3, 3, 2, 1, 1, 1, 3, 0, 4, 0, 4, 0, 3, 3, 3, 4, 1, 1, 4, 0, 0, 2, 1, 4, 0, 4, 4, 1, 0, 4, 2, 0, 5, 2, 3, 0, 2, 0, 0, 0, 4, 2, 0, 0, 1, 4, 1, 4, 0, 0, 4, 3, 2, 0, 4, 0, 4, 0, 3, 0, 0, 2, 3, 0, 0, 1, 2, 4, 4, 4, 1, 1, 1, 1, 0, 0, 1, 1, 2, 0, 1, 2, 4, 3, 5, 4, 0, 3, 4, 4, 2, 3, 3, 5, 4, 1, 0, 0, 4, 0, 0, 4, 0, 3, 4, 3, 0, 2, 0, 0, 4, 2, 2, 4, 0, 1, 1, 4, 4, 3, 4, 4, 1, 1, 4, 4, 4, 2, 0, 2, 0, 3, 4, 0, 4, 0, 2, 4, 3, 0, 0, 0, 2, 1, 2, 2, 3, 2, 4, 1, 4, 0, 0, 4, 0, 1, 1, 1, 2, 0, 1, 4, 4, 3, 3, 0, 3, 4, 0, 4, 0, 1, 3, 2, 1, 2, 4, 4, 0, 1, 1, 3, 0, 3, 3, 4, 4, 4, 4, 0, 1, 4, 0, 3, 0, 0, 0, 2, 0, 4, 4, 1, 1, 4, 4, 0, 1, 3, 1, 0, 4, 3, 1, 1, 2, 3, 0, 0, 4, 1, 2, 1, 0, 0, 1, 5, 1, 2, 0, 0, 4, 0, 2, 0, 0, 5, 0, 0, 2, 2, 4, 0, 2, 3, 4, 0, 4, 0, 4, 0, 2, 0, 4, 3, 0, 1, 0, 2, 3, 4, 5, 4, 2, 1, 4, 3, 3, 2, 0, 4, 0, 2, 2, 0, 4, 2, 1, 0, 2, 0, 2, 2, 2, 3, 3, 0, 4, 1, 3, 4, 0, 2, 0, 0, 4, 4, 4, 3, 0, 2, 3, 1, 0, 3, 1, 2, 4, 0, 3, 0, 3, 3, 2, 4, 4, 1, 2, 5, 4, 3, 4, 0, 4, 3, 3, 0, 4, 1, 0, 3, 4, 0, 0, 4, 5, 1, 4, 0, 4, 2, 3, 0, 1, 2, 4, 0, 4, 1, 5, 1, 1, 1, 4, 0, 5, 4, 0, 3, 5, 3, 4, 2, 5, 1, 2, 2, 3, 0, 2, 3, 3, 4, 0, 2, 1, 1, 2, 2, 0, 1, 2, 5, 3, 3, 2, 4, 4, 4, 4, 4, 1, 4, 3, 3, 0, 0, 3, 1, 0, 1, 3, 4, 1, 0, 2, 1, 2, 4, 0, 0, 3, 3, 4, 4, 4, 0, 2, 4, 4, 2, 5, 3, 4, 4, 0, 1, 4, 2, 2, 2, 0, 2, 1, 0, 3, 3, 1, 0, 0, 0, 1, 4, 4, 0, 4, 4, 1, 3, 1, 3, 0, 1, 0, 0, 0, 4, 3, 4, 1, 3, 0, 0, 4, 1, 0, 0, 4, 0, 3, 2, 1, 4, 1, 0, 0, 0, 3, 3, 1, 1, 1, 4, 4, 1, 3, 1, 1, 4, 4, 1, 3, 0, 0, 4, 4, 0, 0, 1, 1, 0, 1, 2, 4, 4, 2, 4, 0, 1, 3, 0, 1, 3, 0, 3, 0, 2, 4, 4, 2, 4, 4, 0, 5, 4, 3, 3, 2, 1, 4, 0, 1, 1, 0, 1, 1, 4, 2, 1, 3, 0, 0, 0, 3, 1, 3, 2, 0, 4, 3, 2, 2, 3, 4, 4, 3, 3, 0, 4, 2, 1, 0, 3, 0, 2, 3, 5, 3, 2, 3, 0, 1, 2, 4, 3, 1, 5, 0, 4, 5, 4, 4, 4, 4, 2, 2, 1, 4, 4, 1, 0, 4, 4, 1, 0, 0, 3, 3, 3, 4, 4, 3, 3, 4, 4, 0, 0, 1, 4, 4, 0, 3, 3, 0, 2, 4, 3, 0, 3, 4, 3, 2, 1, 2, 0, 4, 5, 4, 3, 3, 0, 4, 4, 4, 4, 0, 3, 4, 4, 0, 4, 4, 0, 2, 1, 1, 4, 3, 3, 3, 4, 3, 3, 0, 3, 1, 1, 1, 5, 3, 2, 3, 2, 1, 0, 0, 4, 2, 3, 1, 0, 3, 0, 1, 2, 0, 1, 3, 1, 4, 4, 0, 2, 4, 4, 2, 0, 1, 4, 0, 1, 3, 0, 4, 3, 0, 1, 1, 0, 3, 2, 3, 3, 3, 4, 0, 2, 4, 0, 0, 4, 1, 3, 0, 1, 0, 2, 4, 3, 3, 0, 4, 2, 2, 3, 2, 4, 4, 0, 3, 3, 1, 1, 0, 1, 1, 4, 3, 1, 2, 1, 1, 0, 4, 0, 2, 0, 4, 4, 4, 5, 2, 3, 4, 0, 0, 4, 3]\n"
     ]
    }
   ],
   "source": [
    "print(preds)"
   ]
  },
  {
   "cell_type": "code",
   "execution_count": 68,
   "metadata": {},
   "outputs": [
    {
     "name": "stdout",
     "output_type": "stream",
     "text": [
      "[5, 3, 2, 4, 3, 4, 2, 0, 2, 4, 4, 4, 2, 2, 5, 2, 0, 3, 2, 3, 4, 0, 4, 0, 3, 1, 5, 1, 0, 3, 1, 0, 3, 1, 4, 0, 5, 1, 0, 1, 2, 0, 2, 5, 3, 2, 1, 0, 5, 1, 3, 1, 2, 2, 0, 1, 1, 2, 1, 0, 5, 1, 1, 3, 5, 3, 4, 0, 1, 0, 5, 4, 0, 3, 3, 4, 0, 5, 0, 3, 3, 5, 0, 1, 5, 4, 3, 0, 0, 4, 3, 5, 5, 1, 4, 5, 2, 4, 4, 1, 2, 2, 2, 3, 5, 1, 1, 5, 3, 3, 3, 2, 2, 3, 4, 5, 0, 0, 3, 0, 2, 5, 3, 4, 1, 1, 5, 4, 1, 3, 2, 0, 1, 2, 4, 2, 0, 2, 0, 0, 4, 0, 1, 5, 3, 1, 4, 2, 5, 2, 3, 3, 5, 2, 3, 4, 0, 1, 4, 4, 5, 1, 4, 5, 3, 4, 0, 0, 2, 5, 5, 1, 2, 0, 5, 2, 3, 3, 3, 2, 5, 0, 2, 0, 2, 4, 3, 1, 4, 0, 0, 4, 3, 3, 1, 2, 1, 4, 4, 3, 1, 2, 5, 5, 1, 3, 3, 5, 1, 1, 0, 2, 1, 4, 0, 2, 4, 3, 0, 4, 2, 1, 5, 1, 3, 2, 2, 3, 1, 3, 1, 3, 3, 5, 0, 1, 2, 3, 3, 0, 1, 0, 1, 2, 3, 4, 0, 1, 1, 3, 5, 4, 5, 1, 1, 2, 5, 4, 0, 1, 1, 4, 0, 0, 4, 1, 3, 0, 0, 4, 1, 0, 2, 0, 5, 0, 2, 5, 0, 3, 0, 0, 5, 4, 3, 5, 0, 1, 4, 1, 4, 1, 5, 4, 3, 2, 0, 5, 5, 4, 0, 4, 5, 1, 3, 0, 5, 0, 1, 2, 2, 4, 3, 1, 1, 1, 3, 5, 1, 1, 1, 2, 5, 1, 3, 3, 3, 5, 4, 0, 4, 4, 2, 3, 3, 2, 1, 3, 1, 5, 5, 5, 5, 5, 4, 0, 3, 4, 3, 0, 4, 1, 0, 5, 2, 2, 4, 0, 1, 1, 3, 3, 3, 4, 4, 3, 2, 4, 4, 4, 3, 5, 2, 0, 3, 3, 0, 0, 0, 2, 5, 3, 0, 5, 0, 2, 1, 2, 4, 2, 0, 4, 1, 5, 5, 0, 4, 5, 1, 1, 1, 2, 2, 1, 4, 5, 4, 3, 0, 3, 4, 0, 0, 0, 1, 4, 2, 1, 4, 2, 4, 0, 1, 0, 3, 5, 4, 3, 2, 4, 2, 3, 1, 1, 4, 5, 2, 5, 0, 5, 3, 5, 4, 1, 1, 1, 4, 1, 5, 1, 3, 1, 0, 4, 3, 1, 1, 2, 3, 0, 5, 0, 5, 0, 1, 5, 0, 1, 5, 1, 2, 0, 5, 4, 5, 2, 5, 5, 5, 5, 5, 2, 2, 4, 0, 2, 4, 2, 5, 5, 5, 3, 5, 2, 0, 3, 4, 0, 1, 4, 4, 3, 0, 5, 4, 4, 1, 3, 2, 4, 2, 0, 4, 5, 2, 2, 1, 4, 4, 1, 0, 2, 0, 2, 2, 2, 3, 1, 5, 4, 1, 2, 2, 0, 2, 0, 3, 2, 4, 3, 2, 5, 4, 2, 1, 0, 4, 1, 5, 4, 5, 3, 5, 2, 3, 2, 5, 3, 3, 2, 5, 3, 3, 4, 0, 2, 3, 3, 5, 3, 1, 0, 3, 3, 0, 5, 3, 5, 2, 4, 5, 4, 4, 4, 0, 1, 3, 2, 1, 4, 1, 0, 1, 1, 1, 2, 0, 5, 4, 0, 3, 5, 3, 4, 2, 0, 5, 2, 2, 3, 0, 2, 3, 1, 4, 0, 2, 1, 1, 2, 2, 0, 5, 2, 5, 3, 4, 2, 4, 4, 4, 4, 4, 1, 4, 3, 4, 5, 0, 2, 1, 5, 1, 3, 4, 1, 5, 2, 1, 2, 2, 1, 0, 3, 3, 0, 2, 4, 0, 2, 4, 4, 3, 5, 4, 4, 2, 5, 1, 4, 2, 2, 4, 5, 4, 5, 5, 3, 4, 1, 0, 5, 5, 1, 2, 4, 5, 0, 4, 1, 3, 1, 3, 0, 1, 0, 5, 0, 4, 3, 3, 1, 3, 5, 5, 0, 1, 0, 5, 2, 0, 3, 1, 1, 4, 1, 0, 5, 5, 3, 3, 2, 1, 5, 3, 3, 1, 0, 1, 1, 3, 4, 1, 3, 0, 0, 2, 5, 5, 5, 1, 1, 5, 1, 2, 4, 4, 2, 0, 0, 1, 3, 0, 1, 3, 0, 3, 0, 2, 4, 4, 4, 4, 4, 5, 5, 0, 3, 3, 2, 1, 4, 5, 1, 1, 0, 1, 1, 4, 2, 1, 4, 5, 0, 5, 3, 1, 3, 2, 0, 3, 3, 2, 3, 3, 4, 4, 3, 4, 0, 3, 2, 1, 0, 3, 5, 3, 3, 5, 3, 2, 3, 0, 1, 2, 5, 3, 3, 5, 5, 2, 0, 4, 2, 5, 4, 2, 3, 1, 3, 4, 1, 5, 4, 4, 1, 0, 5, 3, 3, 4, 2, 3, 3, 3, 3, 0, 5, 5, 1, 4, 4, 3, 4, 4, 0, 3, 5, 3, 0, 3, 4, 4, 2, 1, 3, 5, 2, 5, 4, 4, 3, 0, 4, 2, 4, 2, 5, 2, 4, 2, 0, 4, 2, 5, 2, 1, 1, 3, 3, 4, 0, 5, 3, 3, 5, 3, 1, 1, 1, 5, 4, 3, 5, 2, 3, 4, 0, 0, 2, 3, 1, 5, 3, 0, 1, 0, 0, 1, 3, 3, 4, 4, 5, 2, 3, 5, 2, 0, 1, 4, 1, 0, 3, 5, 4, 4, 5, 1, 1, 5, 2, 2, 2, 3, 2, 2, 1, 3, 4, 5, 4, 2, 2, 3, 5, 1, 0, 2, 4, 3, 3, 5, 4, 3, 2, 3, 2, 4, 2, 0, 3, 3, 1, 1, 5, 1, 1, 5, 3, 1, 2, 0, 1, 2, 5, 5, 2, 5, 3, 4, 4, 5, 3, 4, 2, 5, 0, 4, 3]\n"
     ]
    }
   ],
   "source": [
    "print(actuals)"
   ]
  },
  {
   "cell_type": "code",
   "execution_count": 69,
   "metadata": {},
   "outputs": [
    {
     "name": "stdout",
     "output_type": "stream",
     "text": [
      "[[114   8   5   5  16   5]\n",
      " [ 13 145   2   5   4   1]\n",
      " [  2   5  84  27  40   0]\n",
      " [  3   7  24 110  40   0]\n",
      " [  4   0  16  29 123   0]\n",
      " [111   6   1   4  22  19]]\n"
     ]
    }
   ],
   "source": [
    "from sklearn.metrics import confusion_matrix\n",
    "conf_mx=confusion_matrix(actuals, preds)\n",
    "print(conf_mx)"
   ]
  },
  {
   "cell_type": "code",
   "execution_count": 71,
   "metadata": {},
   "outputs": [
    {
     "name": "stdout",
     "output_type": "stream",
     "text": [
      "0.595\n"
     ]
    }
   ],
   "source": [
    "print((114   +145   +84  +110  +123   +19)/len(preds))"
   ]
  },
  {
   "cell_type": "code",
   "execution_count": 72,
   "metadata": {},
   "outputs": [
    {
     "name": "stdout",
     "output_type": "stream",
     "text": [
      "[[1.4599060e-01 4.4217429e-04 3.9891428e-01 2.5032818e-01 1.8092330e-01\n",
      "  2.3401430e-02]\n",
      " [2.7461177e-01 4.5100236e-04 4.1144851e-01 1.9702666e-01 8.3744012e-02\n",
      "  3.2718107e-02]\n",
      " [1.4049302e-01 4.6960032e-04 2.4844940e-01 3.9476058e-01 1.9745257e-01\n",
      "  1.8374790e-02]\n",
      " [2.4373454e-01 1.3571661e-02 5.3201862e-02 3.0520022e-01 2.9287875e-01\n",
      "  9.1413036e-02]\n",
      " [1.5745896e-01 7.8864582e-03 7.0366293e-02 4.8670584e-01 2.2391257e-01\n",
      "  5.3669840e-02]\n",
      " [3.3314773e-01 8.1089009e-03 3.8101573e-02 1.7588286e-01 3.6456090e-01\n",
      "  8.0198035e-02]\n",
      " [4.5127485e-02 3.8967785e-01 5.1210381e-02 4.0297326e-01 9.9205174e-02\n",
      "  1.1805982e-02]\n",
      " [3.2584459e-02 6.4848334e-01 2.7387638e-02 2.3980151e-01 4.3518163e-02\n",
      "  8.2249027e-03]\n",
      " [4.0494408e-02 4.4490665e-01 3.9558809e-02 3.4717286e-01 1.1849638e-01\n",
      "  9.3708672e-03]]\n"
     ]
    }
   ],
   "source": [
    "'''Next steps:\n",
    "    Try taking the top prediction from the 6x9 group\n",
    "    sum across the 9 before argmax to get weighted votes\n",
    "'''\n",
    "predictions = model.predict(seg_x[9009:9018])\n",
    "pred_labels = np.argmax(predictions, axis = 1)\n",
    "#pred_labels\n",
    "print(predictions)"
   ]
  },
  {
   "cell_type": "code",
   "execution_count": 76,
   "metadata": {},
   "outputs": [
    {
     "data": {
      "text/plain": [
       "1"
      ]
     },
     "execution_count": 76,
     "metadata": {},
     "output_type": "execute_result"
    }
   ],
   "source": [
    "np.argmax(predictions)%6"
   ]
  },
  {
   "cell_type": "code",
   "execution_count": 77,
   "metadata": {},
   "outputs": [],
   "source": [
    "##Takes the single highest prediction of the 9 segments\n",
    "preds=[]\n",
    "actuals=[]\n",
    "for i in range(0,1000):\n",
    "    lower = 9000+i*9\n",
    "    upper = lower+9\n",
    "    prediction = model.predict(seg_x[lower:upper])\n",
    "    pred_label = np.argmax(prediction)%6\n",
    "    preds.append(mode(pred_label,axis=None)[0][0])\n",
    "    actuals.append(mode(seg_y[lower:upper],axis=None)[0][0])"
   ]
  },
  {
   "cell_type": "code",
   "execution_count": 78,
   "metadata": {},
   "outputs": [
    {
     "name": "stdout",
     "output_type": "stream",
     "text": [
      "[[116   9   3   1  16   8]\n",
      " [ 13 150   1   0   6   0]\n",
      " [  7   5  91  12  41   2]\n",
      " [ 10  32  21  60  61   0]\n",
      " [  9   5  10  10 138   0]\n",
      " [112  11   0   2  23  15]]\n"
     ]
    }
   ],
   "source": [
    "conf_mx=confusion_matrix(actuals, preds)\n",
    "print(conf_mx)"
   ]
  },
  {
   "cell_type": "code",
   "execution_count": 79,
   "metadata": {},
   "outputs": [
    {
     "name": "stdout",
     "output_type": "stream",
     "text": [
      "0.57\n"
     ]
    }
   ],
   "source": [
    "print((116   +150   +91  +60  +138   +15)/len(preds))"
   ]
  },
  {
   "cell_type": "code",
   "execution_count": 80,
   "metadata": {},
   "outputs": [],
   "source": [
    "##Sums down the column and then \n",
    "preds=[]\n",
    "actuals=[]\n",
    "for i in range(0,1000):\n",
    "    lower = 9000+i*9\n",
    "    upper = lower+9\n",
    "    prediction = model.predict(seg_x[lower:upper])\n",
    "    pred_label = np.argmax(np.sum(prediction,axis=0))\n",
    "    preds.append(mode(pred_label,axis=None)[0][0])\n",
    "    actuals.append(mode(seg_y[lower:upper],axis=None)[0][0])"
   ]
  },
  {
   "cell_type": "code",
   "execution_count": 81,
   "metadata": {},
   "outputs": [
    {
     "name": "stdout",
     "output_type": "stream",
     "text": [
      "[[116   3   5   5  16   8]\n",
      " [ 10 148   1   4   5   2]\n",
      " [  2   4  80  21  51   0]\n",
      " [  3   6  21  95  59   0]\n",
      " [  3   0   8  11 150   0]\n",
      " [117   4   1   2  21  18]]\n"
     ]
    }
   ],
   "source": [
    "conf_mx=confusion_matrix(actuals, preds)\n",
    "print(conf_mx)"
   ]
  },
  {
   "cell_type": "code",
   "execution_count": 82,
   "metadata": {},
   "outputs": [
    {
     "name": "stdout",
     "output_type": "stream",
     "text": [
      "0.607\n"
     ]
    }
   ],
   "source": [
    "print((116   +148   +80  +95  +150   +18)/len(preds))"
   ]
  },
  {
   "cell_type": "code",
   "execution_count": 83,
   "metadata": {},
   "outputs": [
    {
     "data": {
      "text/plain": [
       "'\\nCNN -> acc: 0.5568\\nVoting -> 0.595\\nSingle Highest -> .57\\nWeighted Vote -> .607\\n'"
      ]
     },
     "execution_count": 83,
     "metadata": {},
     "output_type": "execute_result"
    }
   ],
   "source": [
    "'''\n",
    "CNN -> acc: 0.5568\n",
    "Voting -> 0.595\n",
    "Single Highest -> .57\n",
    "Weighted Vote -> .607\n",
    "'''"
   ]
  },
  {
   "cell_type": "code",
   "execution_count": null,
   "metadata": {},
   "outputs": [],
   "source": []
  }
 ],
 "metadata": {
  "kernelspec": {
   "display_name": "Python 3",
   "language": "python",
   "name": "python3"
  },
  "language_info": {
   "codemirror_mode": {
    "name": "ipython",
    "version": 3
   },
   "file_extension": ".py",
   "mimetype": "text/x-python",
   "name": "python",
   "nbconvert_exporter": "python",
   "pygments_lexer": "ipython3",
   "version": "3.6.6"
  }
 },
 "nbformat": 4,
 "nbformat_minor": 2
}
