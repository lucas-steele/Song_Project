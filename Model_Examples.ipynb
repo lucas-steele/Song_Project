{
 "cells": [
  {
   "cell_type": "code",
   "execution_count": null,
   "metadata": {},
   "outputs": [],
   "source": [
    "#Random Forest\n",
    "\n",
    "from sklearn.ensemble import RandomForestClassifier\n",
    "\n",
    "parameters = {'criterion': ['gini'],\n",
    "              'n_estimators': [300],\n",
    "              'n_jobs':[-1],\n",
    "            #  'max_leaf_nodes':[16],\n",
    "              'random_state':[42]} \n",
    "\n",
    "rfc = GridSearchCV(RandomForestClassifier(),parameters, iid=False, \n",
    "                   return_train_score=False,refit=True)\n",
    "\n",
    "rfc.fit(images_train_scaled, images_train_labels)\n",
    "\n",
    "#.60 test accuracy"
   ]
  },
  {
   "cell_type": "code",
   "execution_count": null,
   "metadata": {},
   "outputs": [],
   "source": [
    "#Ada \n",
    "\n",
    "from sklearn.ensemble import AdaBoostClassifier\n",
    "\n",
    "parameters = {'n_estimators': [200],\n",
    "              'algorithm': ['SAMME.R'],\n",
    "              'learning_rate': [.5],\n",
    "              'random_state':[42]} \n",
    "\n",
    "ada = GridSearchCV(AdaBoostClassifier(),parameters, iid=False, \n",
    "                   return_train_score=False,refit=True)\n",
    "\n",
    "ada.fit(images_train_scaled, images_train_labels)\n",
    "\n",
    "#.59 test acc"
   ]
  }
 ],
 "metadata": {
  "kernelspec": {
   "display_name": "Python 3",
   "language": "python",
   "name": "python3"
  },
  "language_info": {
   "codemirror_mode": {
    "name": "ipython",
    "version": 3
   },
   "file_extension": ".py",
   "mimetype": "text/x-python",
   "name": "python",
   "nbconvert_exporter": "python",
   "pygments_lexer": "ipython3",
   "version": "3.6.6"
  },
  "toc": {
   "base_numbering": 1,
   "nav_menu": {},
   "number_sections": true,
   "sideBar": true,
   "skip_h1_title": false,
   "title_cell": "Table of Contents",
   "title_sidebar": "Contents",
   "toc_cell": false,
   "toc_position": {},
   "toc_section_display": true,
   "toc_window_display": false
  },
  "varInspector": {
   "cols": {
    "lenName": 16,
    "lenType": 16,
    "lenVar": 40
   },
   "kernels_config": {
    "python": {
     "delete_cmd_postfix": "",
     "delete_cmd_prefix": "del ",
     "library": "var_list.py",
     "varRefreshCmd": "print(var_dic_list())"
    },
    "r": {
     "delete_cmd_postfix": ") ",
     "delete_cmd_prefix": "rm(",
     "library": "var_list.r",
     "varRefreshCmd": "cat(var_dic_list()) "
    }
   },
   "types_to_exclude": [
    "module",
    "function",
    "builtin_function_or_method",
    "instance",
    "_Feature"
   ],
   "window_display": true
  }
 },
 "nbformat": 4,
 "nbformat_minor": 2
}
